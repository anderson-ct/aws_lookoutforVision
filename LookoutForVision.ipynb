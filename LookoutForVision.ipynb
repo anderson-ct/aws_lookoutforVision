{
 "cells": [
  {
   "cell_type": "code",
   "execution_count": null,
   "metadata": {},
   "outputs": [],
   "source": []
  },
  {
   "cell_type": "code",
   "execution_count": 1,
   "metadata": {},
   "outputs": [],
   "source": [
    "import boto3\n",
    "import json\n",
    "client = boto3.client('lookoutvision')"
   ]
  },
  {
   "cell_type": "markdown",
   "metadata": {},
   "source": [
    "### Step1: Create a Project"
   ]
  },
  {
   "cell_type": "code",
   "execution_count": 2,
   "metadata": {},
   "outputs": [
    {
     "name": "stdout",
     "output_type": "stream",
     "text": [
      "{'ResponseMetadata': {'RequestId': 'd6ed6e8f-22cb-47c4-bdd7-eeda0b2caa34', 'HTTPStatusCode': 200, 'HTTPHeaders': {'x-amzn-requestid': 'd6ed6e8f-22cb-47c4-bdd7-eeda0b2caa34', 'x-xss-protection': '1; mode=block', 'strict-transport-security': 'max-age=31540000; includeSubDomains', 'x-frame-options': 'DENY', 'x-content-type-options': 'nosniff', 'date': 'Tue, 26 Jan 2021 20:10:58 GMT', 'content-type': 'application/json', 'content-length': '196'}, 'RetryAttempts': 0}, 'ProjectMetadata': {'ProjectArn': 'arn:aws:lookoutvision:us-east-1:979749033494:project/MyLookOutforVision_Project', 'ProjectName': 'MyLookOutforVision_Project', 'CreationTimestamp': datetime.datetime(2021, 1, 26, 14, 37, 15, 113000, tzinfo=tzlocal())}}\n"
     ]
    }
   ],
   "source": [
    "response = client.create_project(\n",
    "    ProjectName='MyLookOutforVision_Project',\n",
    "    ClientToken='MyIdempotencyToken'\n",
    ")\n",
    "print(response)"
   ]
  },
  {
   "cell_type": "markdown",
   "metadata": {},
   "source": [
    "### Step2: Create Training and Testing Dataset (seperately)"
   ]
  },
  {
   "cell_type": "markdown",
   "metadata": {},
   "source": [
    "### Step3: Create Models"
   ]
  },
  {
   "cell_type": "code",
   "execution_count": 3,
   "metadata": {},
   "outputs": [
    {
     "name": "stdout",
     "output_type": "stream",
     "text": [
      "Creating model...\n",
      "ARN: arn:aws:lookoutvision:us-east-1:979749033494:model/MyLookOutforVision_Project/1\n",
      "Version: 1\n",
      "Status: TRAINING\n",
      "Message: The model is being trained.\n",
      "Done...\n"
     ]
    }
   ],
   "source": [
    "def create_model(project_name, output_bucket, output_folder):\n",
    "\n",
    "    client=boto3.client('lookoutvision')\n",
    "\n",
    "    try: \n",
    "        #Create a model\n",
    "        print('Creating model...')\n",
    "\n",
    "        output_config=dataset=json.loads('{ \"S3Location\": { \"Bucket\": \"' + output_bucket + '\", \"Prefix\": \"'+ output_folder + '\" } } ')\n",
    "\n",
    "        response=client.create_model(ProjectName=project_name, OutputConfig=output_config)\n",
    "        print('ARN: ' + response['ModelMetadata']['ModelArn'])\n",
    "        print('Version: ' + response['ModelMetadata']['ModelVersion'])\n",
    "        print('Status: ' + response['ModelMetadata']['Status'])\n",
    "        print('Message: ' + response['ModelMetadata']['StatusMessage'])\n",
    "        print('Done...')\n",
    "\n",
    "    \n",
    "    except Exception as e:\n",
    "        print(e)\n",
    "    \n",
    "def main():\n",
    "    project_name='MyLookOutforVision_Project'\n",
    "    description='my project description'\n",
    "    output_bucket = 'andwct-lookoutforvision'\n",
    "    output_folder = 'output/'\n",
    "\n",
    "    create_model(project_name, output_bucket, output_folder)\n",
    "\n",
    "\n",
    "\n",
    "if __name__ == \"__main__\":\n",
    "    main()"
   ]
  },
  {
   "cell_type": "markdown",
   "metadata": {},
   "source": [
    "### Step4: Viewing Performance Metrics"
   ]
  },
  {
   "cell_type": "code",
   "execution_count": 32,
   "metadata": {},
   "outputs": [
    {
     "name": "stdout",
     "output_type": "stream",
     "text": [
      "Project: MyLookOutforVision_Project\n",
      "Version: 1\n",
      "ARN: arn:aws:lookoutvision:us-east-1:979749033494:model/MyLookOutforVision_Project/1\n",
      "Status: TRAINED\n",
      "Status Message: Training completed successfully.\n",
      "Status: TRAINED\n",
      "Message: Training completed successfully.\n",
      "Recall: 1.0\n",
      "Precision: 0.875\n",
      "Output config: {'S3Location': {'Bucket': 'andwct-lookoutforvision', 'Prefix': 'output/'}}\n",
      "\n",
      "Done...\n"
     ]
    }
   ],
   "source": [
    "def describe_models(project_name):\n",
    "\n",
    "    client=boto3.client('lookoutvision')\n",
    "\n",
    "    try: \n",
    "        #list models\n",
    "        response=client.list_models(ProjectName=project_name)\n",
    "        print('Project: ' + project_name)\n",
    "        for model in response['Models']:\n",
    "            print('Version: ' + model['ModelVersion'])\n",
    "            print('ARN: ' + model['ModelArn']) \n",
    "            if 'Description'  in model:\n",
    "                print('Description: ' + model['Description']) \n",
    "            print('Status: ' + model['Status']) \n",
    "            print('Status Message: ' + model['StatusMessage']) \n",
    "\n",
    "            # get model description\n",
    "            model_description=client.describe_model(ProjectName=project_name, ModelVersion=model['ModelVersion'])\n",
    "            print('Status: ' + model_description['ModelDescription']['Status'])\n",
    "            print('Message: ' + model_description['ModelDescription']['StatusMessage'])\n",
    "            \n",
    "            if 'Performance' in model_description['ModelDescription']:\n",
    "                print('Recall: ' + str(model_description['ModelDescription']['Performance']['Recall']))\n",
    "                print('Precision: ' + str(model_description['ModelDescription']['Performance']['Precision']))\n",
    "            \n",
    "            if 'OutputConfig' in model_description['ModelDescription']:\n",
    "                print('Output config: ' + str(model_description['ModelDescription']['OutputConfig']))\n",
    "            print()\n",
    "\n",
    "        print('Done...')\n",
    "\n",
    "\n",
    "    except Exception as e:\n",
    "        print(e)\n",
    "    \n",
    "def main():\n",
    "    project_name='MyLookOutforVision_Project'\n",
    "    describe_models(project_name)\n",
    "\n",
    "\n",
    "main()"
   ]
  },
  {
   "cell_type": "markdown",
   "metadata": {},
   "source": [
    "### Step5: Detection Anomalies in Action"
   ]
  },
  {
   "cell_type": "code",
   "execution_count": 37,
   "metadata": {},
   "outputs": [
    {
     "name": "stdout",
     "output_type": "stream",
     "text": [
      "Collecting wget\n",
      "  Downloading wget-3.2.zip (10 kB)\n",
      "Building wheels for collected packages: wget\n",
      "  Building wheel for wget (setup.py) ... \u001b[?25ldone\n",
      "\u001b[?25h  Created wheel for wget: filename=wget-3.2-py3-none-any.whl size=9681 sha256=afaf4006843b2875275f6b902841d742d69a5a53bac0af5af65c16d8c4c4f02a\n",
      "  Stored in directory: /home/ec2-user/.cache/pip/wheels/90/1d/93/c863ee832230df5cfc25ca497b3e88e0ee3ea9e44adc46ac62\n",
      "Successfully built wget\n",
      "Installing collected packages: wget\n",
      "Successfully installed wget-3.2\n",
      "\u001b[33mWARNING: You are using pip version 20.3; however, version 21.0 is available.\n",
      "You should consider upgrading via the '/home/ec2-user/anaconda3/envs/python3/bin/python -m pip install --upgrade pip' command.\u001b[0m\n",
      "s3://andwct-lookoutforvision/circuit_board/extra_images/: Unsupported scheme ‘s3’.\n"
     ]
    }
   ],
   "source": [
    "!pip install wget\n",
    "!wget s3://andwct-lookoutforvision/circuit_board/extra_images/ "
   ]
  },
  {
   "cell_type": "code",
   "execution_count": null,
   "metadata": {},
   "outputs": [],
   "source": [
    "def detect_anomalies(project_name,model_version,photo):\n",
    "     \n",
    "\n",
    "    client=boto3.client('lookoutvision')\n",
    "\n",
    "    #Call DetectAnomalies \n",
    "\n",
    "    with open(photo, 'rb') as image:\n",
    "        response = client.detect_anomalies(ProjectName=project_name, \n",
    "        ContentType='image/jpeg',\n",
    "        Body=image.read(),\n",
    "        ModelVersion=model_version)\n",
    "    print ('Anomalous?: ' + str(response['DetectAnomalyResult']['IsAnomalous']))\n",
    "    print ('Confidence: ' + str(response['DetectAnomalyResult']['Confidence']))\n",
    "\n",
    "\n",
    "def main():\n",
    "\n",
    "    project_name='MyLookOutforVision_Project'\n",
    "    photo='image.jpg'\n",
    "    model_version='1'\n",
    "  \n",
    "    anomalous=detect_anomalies(project_name,model_version,photo)\n",
    "    \n",
    "main()"
   ]
  },
  {
   "cell_type": "code",
   "execution_count": null,
   "metadata": {},
   "outputs": [],
   "source": []
  }
 ],
 "metadata": {
  "kernelspec": {
   "display_name": "conda_python3",
   "language": "python",
   "name": "conda_python3"
  },
  "language_info": {
   "codemirror_mode": {
    "name": "ipython",
    "version": 3
   },
   "file_extension": ".py",
   "mimetype": "text/x-python",
   "name": "python",
   "nbconvert_exporter": "python",
   "pygments_lexer": "ipython3",
   "version": "3.6.10"
  }
 },
 "nbformat": 4,
 "nbformat_minor": 4
}
